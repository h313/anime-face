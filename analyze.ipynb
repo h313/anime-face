{
 "cells": [
  {
   "cell_type": "code",
   "execution_count": 2,
   "metadata": {},
   "outputs": [],
   "source": [
    "from pandas import DataFrame, read_csv\n",
    "import matplotlib.pyplot as plt\n",
    "import pandas as pd \n",
    "\n",
    "file = r'data.csv'\n",
    "df = pd.read_csv(file)"
   ]
  },
  {
   "cell_type": "code",
   "execution_count": 3,
   "metadata": {},
   "outputs": [
    {
     "name": "stdout",
     "output_type": "stream",
     "text": [
      "      username  is_anime_face  contribs\n",
      "0            1          False        36\n",
      "1            4          False        53\n",
      "2            7          False        93\n",
      "3           17          False       300\n",
      "4           18          False         3\n",
      "...        ...            ...       ...\n",
      "3491   1000924          False         1\n",
      "3492   1000927          False        21\n",
      "3493   1000933          False         5\n",
      "3494   1000934          False       276\n",
      "3495   1000941          False        13\n",
      "\n",
      "[3496 rows x 3 columns]\n"
     ]
    }
   ],
   "source": [
    "print(df)"
   ]
  },
  {
   "cell_type": "code",
   "execution_count": 13,
   "metadata": {},
   "outputs": [
    {
     "data": {
      "text/plain": [
       "Text(0, 0.5, 'Recorded GitHub activities')"
      ]
     },
     "execution_count": 13,
     "metadata": {},
     "output_type": "execute_result"
    },
    {
     "data": {
      "image/png": "[encoded data removed]",
      "text/plain": [
       "<Figure size 576x432 with 1 Axes>"
      ]
     },
     "metadata": {
      "needs_background": "light"
     },
     "output_type": "display_data"
    }
   ],
   "source": [
    "plt = df.boxplot(by='is_anime_face', column='contribs', figsize=(8,6))\n",
    "plt.set_title('User activity by profile picture')\n",
    "plt.set_xlabel('Has anime profile picture')\n",
    "plt.set_ylabel('Recorded GitHub activities')"
   ]
  },
  {
   "cell_type": "code",
   "execution_count": 14,
   "metadata": {},
   "outputs": [
    {
     "data": {
      "text/plain": [
       "Ttest_indResult(statistic=1.1825685850757, pvalue=0.23706063462770557)"
      ]
     },
     "execution_count": 14,
     "metadata": {},
     "output_type": "execute_result"
    }
   ],
   "source": [
    "from scipy.stats import ttest_ind\n",
    "\n",
    "cat1 = df[df['is_anime_face'] == True]\n",
    "cat2 = df[df['is_anime_face'] == False]\n",
    "\n",
    "ttest_ind(cat1['contribs'], cat2['contribs'])"
   ]
  },
  {
   "cell_type": "code",
   "execution_count": null,
   "metadata": {},
   "outputs": [],
   "source": []
  }
 ],
 "metadata": {
  "kernelspec": {
   "display_name": "Python 3",
   "language": "python",
   "name": "python3"
  },
  "language_info": {
   "codemirror_mode": {
    "name": "ipython",
    "version": 3
   },
   "file_extension": ".py",
   "mimetype": "text/x-python",
   "name": "python",
   "nbconvert_exporter": "python",
   "pygments_lexer": "ipython3",
   "version": "3.8.5"
  }
 },
 "nbformat": 4,
 "nbformat_minor": 4
}
